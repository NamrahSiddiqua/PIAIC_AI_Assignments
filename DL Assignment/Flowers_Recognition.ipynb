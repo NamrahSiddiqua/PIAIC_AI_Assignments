{
 "cells": [
  {
   "cell_type": "code",
   "execution_count": 45,
   "metadata": {},
   "outputs": [],
   "source": [
    "import matplotlib.pyplot as plt\n",
    "import numpy as np\n",
    "from os import listdir\n",
    "import os\n",
    "from os.path import join\n",
    "import cv2\n",
    "import pandas as pd\n",
    "import pathlib\n",
    "from pathlib import Path\n",
    "from tensorflow.keras.optimizers import RMSprop"
   ]
  },
  {
   "cell_type": "code",
   "execution_count": 5,
   "metadata": {},
   "outputs": [
    {
     "name": "stdout",
     "output_type": "stream",
     "text": [
      "dandelion\n",
      "tulip\n",
      "rose\n",
      "daisy\n",
      "flowers\n",
      "sunflower\n"
     ]
    }
   ],
   "source": [
    "directory = Path(\"flowers/flowers\")\n",
    "\n",
    "image_names = []\n",
    "data_images = []\n",
    "labels = []\n",
    "\n",
    "# Iterating Over Directory To Extract Sub Directories\n",
    "for dir in directory.iterdir():\n",
    "    image_names.append(dir.name)\n",
    "    print(dir.name)\n",
    "# Iterating Over Sub Directories To Extract Lables\n",
    "    for imgpath in dir.iterdir():\n",
    "        if imgpath.name.endswith(\"jpg\"):\n",
    "            labels.append(dir.name)\n",
    "            imgarr = cv2.imread(str(imgpath), cv2.IMREAD_GRAYSCALE)\n",
    "            imgarr = cv2.resize(imgarr, (150,150))\n",
    "            data_images.append(imgarr)"
   ]
  },
  {
   "cell_type": "code",
   "execution_count": 6,
   "metadata": {},
   "outputs": [],
   "source": [
    "# label_dummies = pd.get_dummies(labels)\n",
    "# labels =  label_dummies.values.argmax(1)\n",
    "from keras.utils import to_categorical\n",
    "from sklearn.preprocessing import LabelBinarizer, LabelEncoder\n",
    "labels = LabelEncoder().fit_transform(labels)\n",
    "labels=to_categorical(labels)"
   ]
  },
  {
   "cell_type": "code",
   "execution_count": 7,
   "metadata": {},
   "outputs": [
    {
     "data": {
      "text/plain": [
       "(6,)"
      ]
     },
     "execution_count": 7,
     "metadata": {},
     "output_type": "execute_result"
    }
   ],
   "source": [
    "image_names=np.asarray(image_names)\n",
    "image_names.shape"
   ]
  },
  {
   "cell_type": "code",
   "execution_count": 16,
   "metadata": {},
   "outputs": [
    {
     "name": "stdout",
     "output_type": "stream",
     "text": [
      "(4323, 22500) float32\n"
     ]
    }
   ],
   "source": [
    "data = np.asarray(data_images).reshape(len(data_images),150*150)\n",
    "data = data.astype(\"float32\")/255.0\n",
    "print (data.shape, data.dtype)"
   ]
  },
  {
   "cell_type": "code",
   "execution_count": 17,
   "metadata": {},
   "outputs": [],
   "source": [
    "import sklearn\n",
    "from sklearn.model_selection import train_test_split\n",
    "X_train,X_test,y_train,y_test=train_test_split(data,labels,test_size=.40,random_state=1)"
   ]
  },
  {
   "cell_type": "code",
   "execution_count": 18,
   "metadata": {},
   "outputs": [
    {
     "data": {
      "text/plain": [
       "array([0.6862745 , 0.73333335, 0.6745098 , ..., 0.22745098, 0.22745098,\n",
       "       0.24705882], dtype=float32)"
      ]
     },
     "execution_count": 18,
     "metadata": {},
     "output_type": "execute_result"
    }
   ],
   "source": [
    "X_train[0]"
   ]
  },
  {
   "cell_type": "code",
   "execution_count": 19,
   "metadata": {},
   "outputs": [
    {
     "data": {
      "text/plain": [
       "array([0., 0., 1., 0., 0.], dtype=float32)"
      ]
     },
     "execution_count": 19,
     "metadata": {},
     "output_type": "execute_result"
    }
   ],
   "source": [
    "y_train[0]"
   ]
  },
  {
   "cell_type": "code",
   "execution_count": 20,
   "metadata": {},
   "outputs": [
    {
     "data": {
      "text/plain": [
       "(2593, 22500)"
      ]
     },
     "execution_count": 20,
     "metadata": {},
     "output_type": "execute_result"
    }
   ],
   "source": [
    "X_train.shape"
   ]
  },
  {
   "cell_type": "code",
   "execution_count": 21,
   "metadata": {},
   "outputs": [
    {
     "data": {
      "text/plain": [
       "(1730, 22500)"
      ]
     },
     "execution_count": 21,
     "metadata": {},
     "output_type": "execute_result"
    }
   ],
   "source": [
    "X_test.shape"
   ]
  },
  {
   "cell_type": "code",
   "execution_count": 22,
   "metadata": {},
   "outputs": [
    {
     "data": {
      "text/plain": [
       "(2593, 5)"
      ]
     },
     "execution_count": 22,
     "metadata": {},
     "output_type": "execute_result"
    }
   ],
   "source": [
    "y_train.shape"
   ]
  },
  {
   "cell_type": "code",
   "execution_count": 23,
   "metadata": {},
   "outputs": [
    {
     "data": {
      "text/plain": [
       "(1730, 5)"
      ]
     },
     "execution_count": 23,
     "metadata": {},
     "output_type": "execute_result"
    }
   ],
   "source": [
    "y_test.shape"
   ]
  },
  {
   "cell_type": "code",
   "execution_count": 34,
   "metadata": {},
   "outputs": [],
   "source": [
    "from keras.models import Sequential\n",
    "from keras.layers import Dense, Dropout\n",
    "from keras import losses,optimizers,regularizers\n",
    "network =Sequential()\n",
    "network.add(Dense(512,kernel_regularizer=regularizers.l2(0.001),activation=\"relu\",input_shape=(X_train.shape[1],)))\n",
    "network.add(Dense(256,kernel_regularizer=regularizers.l2(0.001),activation='relu'))\n",
    "#network.add(Dropout(0.2))\n",
    "network.add(Dense(128,kernel_regularizer=regularizers.l2(0.001),activation='relu'))\n",
    "network.add(Dense(64,kernel_regularizer=regularizers.l2(0.001),activation='relu'))\n",
    "#network.add(Dropout(0.2))\n",
    "network.add(Dense(32,kernel_regularizer=regularizers.l2(0.001),activation='relu'))\n",
    "network.add(Dense(8,kernel_regularizer=regularizers.l2(0.001),activation='relu'))\n",
    "#network.add(Dropout(0.2))\n",
    "network.add(Dense(5,activation=\"softmax\"))"
   ]
  },
  {
   "cell_type": "code",
   "execution_count": 35,
   "metadata": {},
   "outputs": [
    {
     "name": "stdout",
     "output_type": "stream",
     "text": [
      "Model: \"sequential_2\"\n",
      "_________________________________________________________________\n",
      "Layer (type)                 Output Shape              Param #   \n",
      "=================================================================\n",
      "dense_11 (Dense)             (None, 512)               11520512  \n",
      "_________________________________________________________________\n",
      "dense_12 (Dense)             (None, 256)               131328    \n",
      "_________________________________________________________________\n",
      "dense_13 (Dense)             (None, 128)               32896     \n",
      "_________________________________________________________________\n",
      "dense_14 (Dense)             (None, 64)                8256      \n",
      "_________________________________________________________________\n",
      "dense_15 (Dense)             (None, 32)                2080      \n",
      "_________________________________________________________________\n",
      "dense_16 (Dense)             (None, 8)                 264       \n",
      "_________________________________________________________________\n",
      "dense_17 (Dense)             (None, 5)                 45        \n",
      "=================================================================\n",
      "Total params: 11,695,381\n",
      "Trainable params: 11,695,381\n",
      "Non-trainable params: 0\n",
      "_________________________________________________________________\n"
     ]
    }
   ],
   "source": [
    "network.summary()"
   ]
  },
  {
   "cell_type": "code",
   "execution_count": 46,
   "metadata": {},
   "outputs": [],
   "source": [
    "network.compile(loss ='categorical_crossentropy',optimizer=RMSprop(learning_rate= 0.0001),metrics=['accuracy'])"
   ]
  },
  {
   "cell_type": "code",
   "execution_count": 47,
   "metadata": {},
   "outputs": [
    {
     "name": "stdout",
     "output_type": "stream",
     "text": [
      "Epoch 1/100\n",
      "30/30 [==============================] - 7s 192ms/step - loss: 1.6065 - accuracy: 0.2135 - val_loss: 1.6148 - val_accuracy: 0.2200\n",
      "Epoch 2/100\n",
      "30/30 [==============================] - 6s 188ms/step - loss: 1.6012 - accuracy: 0.2490 - val_loss: 1.6148 - val_accuracy: 0.2200\n",
      "Epoch 3/100\n",
      "30/30 [==============================] - 6s 206ms/step - loss: 1.6024 - accuracy: 0.2270 - val_loss: 1.6148 - val_accuracy: 0.2200\n",
      "Epoch 4/100\n",
      "30/30 [==============================] - 7s 231ms/step - loss: 1.6006 - accuracy: 0.2363 - val_loss: 1.6148 - val_accuracy: 0.2200\n",
      "Epoch 5/100\n",
      "30/30 [==============================] - 7s 224ms/step - loss: 1.6124 - accuracy: 0.2019 - val_loss: 1.6148 - val_accuracy: 0.2200\n",
      "Epoch 6/100\n",
      "30/30 [==============================] - 6s 188ms/step - loss: 1.6042 - accuracy: 0.2257 - val_loss: 1.6148 - val_accuracy: 0.2200\n",
      "Epoch 7/100\n",
      "30/30 [==============================] - 6s 207ms/step - loss: 1.6018 - accuracy: 0.2508 - val_loss: 1.6148 - val_accuracy: 0.2200\n",
      "Epoch 8/100\n",
      "30/30 [==============================] - 6s 206ms/step - loss: 1.6024 - accuracy: 0.2422 - val_loss: 1.6148 - val_accuracy: 0.2200\n",
      "Epoch 9/100\n",
      "30/30 [==============================] - 6s 213ms/step - loss: 1.6055 - accuracy: 0.2303 - val_loss: 1.6147 - val_accuracy: 0.2200\n",
      "Epoch 10/100\n",
      "30/30 [==============================] - 6s 197ms/step - loss: 1.5956 - accuracy: 0.2563 - val_loss: 1.6148 - val_accuracy: 0.2200\n",
      "Epoch 11/100\n",
      "30/30 [==============================] - 6s 196ms/step - loss: 1.6097 - accuracy: 0.2093 - val_loss: 1.6147 - val_accuracy: 0.2200\n",
      "Epoch 12/100\n",
      "30/30 [==============================] - 7s 219ms/step - loss: 1.6060 - accuracy: 0.1975 - val_loss: 1.6147 - val_accuracy: 0.2200\n",
      "Epoch 13/100\n",
      "30/30 [==============================] - 6s 202ms/step - loss: 1.5921 - accuracy: 0.2826 - val_loss: 1.6148 - val_accuracy: 0.2200\n",
      "Epoch 14/100\n",
      "30/30 [==============================] - 6s 205ms/step - loss: 1.6013 - accuracy: 0.2051 - val_loss: 1.6148 - val_accuracy: 0.2200\n",
      "Epoch 15/100\n",
      "30/30 [==============================] - 6s 198ms/step - loss: 1.6064 - accuracy: 0.2337 - val_loss: 1.6148 - val_accuracy: 0.2200\n",
      "Epoch 16/100\n",
      "30/30 [==============================] - 6s 191ms/step - loss: 1.5973 - accuracy: 0.2547 - val_loss: 1.6148 - val_accuracy: 0.2200\n",
      "Epoch 17/100\n",
      "30/30 [==============================] - 6s 184ms/step - loss: 1.6060 - accuracy: 0.2372 - val_loss: 1.6148 - val_accuracy: 0.2200\n",
      "Epoch 18/100\n",
      "30/30 [==============================] - 6s 184ms/step - loss: 1.6026 - accuracy: 0.2494 - val_loss: 1.6148 - val_accuracy: 0.2200\n",
      "Epoch 19/100\n",
      "30/30 [==============================] - 6s 198ms/step - loss: 1.6106 - accuracy: 0.2260 - val_loss: 1.6148 - val_accuracy: 0.2200\n",
      "Epoch 20/100\n",
      "30/30 [==============================] - 6s 207ms/step - loss: 1.5989 - accuracy: 0.2286 - val_loss: 1.6148 - val_accuracy: 0.2200\n",
      "Epoch 21/100\n",
      "30/30 [==============================] - 6s 193ms/step - loss: 1.6002 - accuracy: 0.2258 - val_loss: 1.6148 - val_accuracy: 0.2200\n",
      "Epoch 22/100\n",
      "30/30 [==============================] - 6s 186ms/step - loss: 1.6061 - accuracy: 0.2198 - val_loss: 1.6148 - val_accuracy: 0.2200\n",
      "Epoch 23/100\n",
      "30/30 [==============================] - 6s 192ms/step - loss: 1.5960 - accuracy: 0.2435 - val_loss: 1.6148 - val_accuracy: 0.2200\n",
      "Epoch 24/100\n",
      "30/30 [==============================] - 6s 206ms/step - loss: 1.6084 - accuracy: 0.2125 - val_loss: 1.6148 - val_accuracy: 0.2200\n",
      "Epoch 25/100\n",
      "30/30 [==============================] - 6s 196ms/step - loss: 1.6015 - accuracy: 0.2657 - val_loss: 1.6149 - val_accuracy: 0.2200\n",
      "Epoch 26/100\n",
      "30/30 [==============================] - 6s 196ms/step - loss: 1.6064 - accuracy: 0.1866 - val_loss: 1.6148 - val_accuracy: 0.2200\n",
      "Epoch 27/100\n",
      "30/30 [==============================] - 6s 197ms/step - loss: 1.6036 - accuracy: 0.2366 - val_loss: 1.6148 - val_accuracy: 0.2200\n",
      "Epoch 28/100\n",
      "30/30 [==============================] - 6s 197ms/step - loss: 1.6010 - accuracy: 0.2271 - val_loss: 1.6148 - val_accuracy: 0.2200\n",
      "Epoch 29/100\n",
      "30/30 [==============================] - 6s 201ms/step - loss: 1.6064 - accuracy: 0.2193 - val_loss: 1.6148 - val_accuracy: 0.2200\n",
      "Epoch 30/100\n",
      "30/30 [==============================] - 6s 203ms/step - loss: 1.6071 - accuracy: 0.2003 - val_loss: 1.6148 - val_accuracy: 0.2200\n",
      "Epoch 31/100\n",
      "30/30 [==============================] - 7s 222ms/step - loss: 1.6016 - accuracy: 0.2391 - val_loss: 1.6148 - val_accuracy: 0.2200\n",
      "Epoch 32/100\n",
      "30/30 [==============================] - 6s 196ms/step - loss: 1.6137 - accuracy: 0.2024 - val_loss: 1.6148 - val_accuracy: 0.2200\n",
      "Epoch 33/100\n",
      "30/30 [==============================] - 6s 197ms/step - loss: 1.5926 - accuracy: 0.2359 - val_loss: 1.6148 - val_accuracy: 0.2200\n",
      "Epoch 34/100\n",
      "30/30 [==============================] - 6s 195ms/step - loss: 1.6059 - accuracy: 0.2219 - val_loss: 1.6148 - val_accuracy: 0.2200\n",
      "Epoch 35/100\n",
      "30/30 [==============================] - 7s 225ms/step - loss: 1.6042 - accuracy: 0.2240 - val_loss: 1.6148 - val_accuracy: 0.2200\n",
      "Epoch 36/100\n",
      "30/30 [==============================] - 7s 241ms/step - loss: 1.6064 - accuracy: 0.2309 - val_loss: 1.6149 - val_accuracy: 0.2200\n",
      "Epoch 37/100\n",
      "30/30 [==============================] - 9s 290ms/step - loss: 1.5985 - accuracy: 0.2401 - val_loss: 1.6148 - val_accuracy: 0.2200\n",
      "Epoch 38/100\n",
      "30/30 [==============================] - 8s 273ms/step - loss: 1.6026 - accuracy: 0.2241 - val_loss: 1.6148 - val_accuracy: 0.2200\n",
      "Epoch 39/100\n",
      "30/30 [==============================] - 7s 230ms/step - loss: 1.6007 - accuracy: 0.2348 - val_loss: 1.6149 - val_accuracy: 0.2200\n",
      "Epoch 40/100\n",
      "30/30 [==============================] - 7s 224ms/step - loss: 1.6120 - accuracy: 0.2378 - val_loss: 1.6148 - val_accuracy: 0.2200\n",
      "Epoch 41/100\n",
      "30/30 [==============================] - 7s 233ms/step - loss: 1.6030 - accuracy: 0.2310 - val_loss: 1.6148 - val_accuracy: 0.2200\n",
      "Epoch 42/100\n",
      "30/30 [==============================] - 7s 228ms/step - loss: 1.6014 - accuracy: 0.2476 - val_loss: 1.6148 - val_accuracy: 0.2200\n",
      "Epoch 43/100\n",
      "30/30 [==============================] - 7s 229ms/step - loss: 1.6004 - accuracy: 0.2369 - val_loss: 1.6148 - val_accuracy: 0.2200\n",
      "Epoch 44/100\n",
      "30/30 [==============================] - 7s 247ms/step - loss: 1.6061 - accuracy: 0.2067 - val_loss: 1.6148 - val_accuracy: 0.2200\n",
      "Epoch 45/100\n",
      "30/30 [==============================] - 9s 308ms/step - loss: 1.6041 - accuracy: 0.2440 - val_loss: 1.6148 - val_accuracy: 0.2200\n",
      "Epoch 46/100\n",
      "30/30 [==============================] - 10s 334ms/step - loss: 1.6045 - accuracy: 0.1902 - val_loss: 1.6148 - val_accuracy: 0.2200\n",
      "Epoch 47/100\n",
      "30/30 [==============================] - 9s 302ms/step - loss: 1.6066 - accuracy: 0.2435 - val_loss: 1.6148 - val_accuracy: 0.2200\n",
      "Epoch 48/100\n",
      "30/30 [==============================] - 10s 322ms/step - loss: 1.6135 - accuracy: 0.2023 - val_loss: 1.6149 - val_accuracy: 0.2200\n",
      "Epoch 49/100\n",
      "30/30 [==============================] - 8s 271ms/step - loss: 1.5945 - accuracy: 0.2555 - val_loss: 1.6148 - val_accuracy: 0.2200\n",
      "Epoch 50/100\n",
      "30/30 [==============================] - 8s 253ms/step - loss: 1.6110 - accuracy: 0.2020 - val_loss: 1.6148 - val_accuracy: 0.2200\n",
      "Epoch 51/100\n",
      "30/30 [==============================] - 6s 206ms/step - loss: 1.6015 - accuracy: 0.2385 - val_loss: 1.6148 - val_accuracy: 0.2200\n",
      "Epoch 52/100\n",
      "30/30 [==============================] - 6s 213ms/step - loss: 1.6051 - accuracy: 0.2257 - val_loss: 1.6148 - val_accuracy: 0.2200\n",
      "Epoch 53/100\n",
      "30/30 [==============================] - 7s 230ms/step - loss: 1.6094 - accuracy: 0.2056 - val_loss: 1.6148 - val_accuracy: 0.2200\n",
      "Epoch 54/100\n",
      "30/30 [==============================] - 7s 244ms/step - loss: 1.6040 - accuracy: 0.2162 - val_loss: 1.6149 - val_accuracy: 0.2200\n",
      "Epoch 55/100\n",
      "30/30 [==============================] - 6s 195ms/step - loss: 1.6053 - accuracy: 0.2276 - val_loss: 1.6148 - val_accuracy: 0.2200\n",
      "Epoch 56/100\n",
      "30/30 [==============================] - 6s 198ms/step - loss: 1.6049 - accuracy: 0.2399 - val_loss: 1.6148 - val_accuracy: 0.2200\n",
      "Epoch 57/100\n",
      "30/30 [==============================] - 7s 241ms/step - loss: 1.6026 - accuracy: 0.2236 - val_loss: 1.6148 - val_accuracy: 0.2200\n"
     ]
    },
    {
     "name": "stdout",
     "output_type": "stream",
     "text": [
      "Epoch 58/100\n",
      "30/30 [==============================] - 7s 228ms/step - loss: 1.6076 - accuracy: 0.2192 - val_loss: 1.6148 - val_accuracy: 0.2200\n",
      "Epoch 59/100\n",
      "30/30 [==============================] - 6s 196ms/step - loss: 1.5976 - accuracy: 0.2251 - val_loss: 1.6148 - val_accuracy: 0.2200\n",
      "Epoch 60/100\n",
      "30/30 [==============================] - 6s 212ms/step - loss: 1.6016 - accuracy: 0.2198 - val_loss: 1.6149 - val_accuracy: 0.2200\n",
      "Epoch 61/100\n",
      "30/30 [==============================] - 6s 201ms/step - loss: 1.6051 - accuracy: 0.2069 - val_loss: 1.6148 - val_accuracy: 0.2200\n",
      "Epoch 62/100\n",
      "30/30 [==============================] - 8s 259ms/step - loss: 1.6045 - accuracy: 0.2375 - val_loss: 1.6149 - val_accuracy: 0.2200\n",
      "Epoch 63/100\n",
      "30/30 [==============================] - 7s 248ms/step - loss: 1.5945 - accuracy: 0.2707 - val_loss: 1.6149 - val_accuracy: 0.2200\n",
      "Epoch 64/100\n",
      "30/30 [==============================] - 6s 202ms/step - loss: 1.5971 - accuracy: 0.2049 - val_loss: 1.6148 - val_accuracy: 0.2200\n",
      "Epoch 65/100\n",
      "30/30 [==============================] - 6s 207ms/step - loss: 1.6010 - accuracy: 0.2419 - val_loss: 1.6149 - val_accuracy: 0.2200\n",
      "Epoch 66/100\n",
      "30/30 [==============================] - 6s 197ms/step - loss: 1.6024 - accuracy: 0.2432 - val_loss: 1.6149 - val_accuracy: 0.2200\n",
      "Epoch 67/100\n",
      "30/30 [==============================] - 6s 201ms/step - loss: 1.6049 - accuracy: 0.2272 - val_loss: 1.6149 - val_accuracy: 0.2200\n",
      "Epoch 68/100\n",
      "30/30 [==============================] - 6s 215ms/step - loss: 1.6024 - accuracy: 0.2114 - val_loss: 1.6149 - val_accuracy: 0.2200\n",
      "Epoch 69/100\n",
      "30/30 [==============================] - 6s 212ms/step - loss: 1.6024 - accuracy: 0.2356 - val_loss: 1.6149 - val_accuracy: 0.2200\n",
      "Epoch 70/100\n",
      "30/30 [==============================] - 6s 201ms/step - loss: 1.5931 - accuracy: 0.2226 - val_loss: 1.6149 - val_accuracy: 0.2200\n",
      "Epoch 71/100\n",
      "30/30 [==============================] - 7s 228ms/step - loss: 1.6023 - accuracy: 0.2294 - val_loss: 1.6149 - val_accuracy: 0.2200\n",
      "Epoch 72/100\n",
      "30/30 [==============================] - 7s 246ms/step - loss: 1.6072 - accuracy: 0.2300 - val_loss: 1.6149 - val_accuracy: 0.2200\n",
      "Epoch 73/100\n",
      "30/30 [==============================] - 8s 259ms/step - loss: 1.6024 - accuracy: 0.2155 - val_loss: 1.6149 - val_accuracy: 0.2200\n",
      "Epoch 74/100\n",
      "30/30 [==============================] - 9s 301ms/step - loss: 1.6046 - accuracy: 0.2330 - val_loss: 1.6148 - val_accuracy: 0.2200\n",
      "Epoch 75/100\n",
      "30/30 [==============================] - 8s 273ms/step - loss: 1.5953 - accuracy: 0.2452 - val_loss: 1.6149 - val_accuracy: 0.2200\n",
      "Epoch 76/100\n",
      "30/30 [==============================] - 8s 254ms/step - loss: 1.6005 - accuracy: 0.2255 - val_loss: 1.6149 - val_accuracy: 0.2200\n",
      "Epoch 77/100\n",
      "30/30 [==============================] - 7s 219ms/step - loss: 1.6091 - accuracy: 0.2362 - val_loss: 1.6149 - val_accuracy: 0.2200\n",
      "Epoch 78/100\n",
      "30/30 [==============================] - 6s 211ms/step - loss: 1.6065 - accuracy: 0.1996 - val_loss: 1.6149 - val_accuracy: 0.2200\n",
      "Epoch 79/100\n",
      "30/30 [==============================] - 7s 242ms/step - loss: 1.6059 - accuracy: 0.2293 - val_loss: 1.6149 - val_accuracy: 0.2200\n",
      "Epoch 80/100\n",
      "30/30 [==============================] - 7s 247ms/step - loss: 1.6094 - accuracy: 0.2022 - val_loss: 1.6149 - val_accuracy: 0.2200\n",
      "Epoch 81/100\n",
      "30/30 [==============================] - 6s 206ms/step - loss: 1.6016 - accuracy: 0.2301 - val_loss: 1.6149 - val_accuracy: 0.2200\n",
      "Epoch 82/100\n",
      "30/30 [==============================] - 6s 191ms/step - loss: 1.6042 - accuracy: 0.2322 - val_loss: 1.6149 - val_accuracy: 0.2200\n",
      "Epoch 83/100\n",
      "30/30 [==============================] - 9s 289ms/step - loss: 1.6023 - accuracy: 0.2432 - val_loss: 1.6149 - val_accuracy: 0.2200\n",
      "Epoch 84/100\n",
      "30/30 [==============================] - 9s 291ms/step - loss: 1.6089 - accuracy: 0.1936 - val_loss: 1.6149 - val_accuracy: 0.2200\n",
      "Epoch 85/100\n",
      "30/30 [==============================] - 9s 296ms/step - loss: 1.6028 - accuracy: 0.2236 - val_loss: 1.6150 - val_accuracy: 0.2200\n",
      "Epoch 86/100\n",
      "30/30 [==============================] - 9s 301ms/step - loss: 1.6017 - accuracy: 0.2439 - val_loss: 1.6148 - val_accuracy: 0.2200\n",
      "Epoch 87/100\n",
      "30/30 [==============================] - 8s 270ms/step - loss: 1.6009 - accuracy: 0.2237 - val_loss: 1.6150 - val_accuracy: 0.2200\n",
      "Epoch 88/100\n",
      "30/30 [==============================] - 8s 249ms/step - loss: 1.5991 - accuracy: 0.2334 - val_loss: 1.6150 - val_accuracy: 0.2200\n",
      "Epoch 89/100\n",
      "30/30 [==============================] - 6s 211ms/step - loss: 1.5968 - accuracy: 0.2405 - val_loss: 1.6150 - val_accuracy: 0.2200\n",
      "Epoch 90/100\n",
      "30/30 [==============================] - 6s 207ms/step - loss: 1.6043 - accuracy: 0.2392 - val_loss: 1.6149 - val_accuracy: 0.2200\n",
      "Epoch 91/100\n",
      "30/30 [==============================] - 6s 208ms/step - loss: 1.5975 - accuracy: 0.2559 - val_loss: 1.6149 - val_accuracy: 0.2200\n",
      "Epoch 92/100\n",
      "30/30 [==============================] - 6s 212ms/step - loss: 1.6082 - accuracy: 0.2047 - val_loss: 1.6150 - val_accuracy: 0.2200\n",
      "Epoch 93/100\n",
      "30/30 [==============================] - 6s 207ms/step - loss: 1.5953 - accuracy: 0.2474 - val_loss: 1.6150 - val_accuracy: 0.2200\n",
      "Epoch 94/100\n",
      "30/30 [==============================] - 6s 205ms/step - loss: 1.6063 - accuracy: 0.2284 - val_loss: 1.6150 - val_accuracy: 0.2200\n",
      "Epoch 95/100\n",
      "30/30 [==============================] - 6s 212ms/step - loss: 1.6028 - accuracy: 0.2248 - val_loss: 1.6150 - val_accuracy: 0.2200\n",
      "Epoch 96/100\n",
      "30/30 [==============================] - 6s 193ms/step - loss: 1.5985 - accuracy: 0.2142 - val_loss: 1.6150 - val_accuracy: 0.2200\n",
      "Epoch 97/100\n",
      "30/30 [==============================] - 6s 198ms/step - loss: 1.6006 - accuracy: 0.2140 - val_loss: 1.6150 - val_accuracy: 0.2200\n",
      "Epoch 98/100\n",
      "30/30 [==============================] - 6s 203ms/step - loss: 1.6082 - accuracy: 0.2515 - val_loss: 1.6150 - val_accuracy: 0.2200\n",
      "Epoch 99/100\n",
      "30/30 [==============================] - 6s 209ms/step - loss: 1.6042 - accuracy: 0.2171 - val_loss: 1.6150 - val_accuracy: 0.2200\n",
      "Epoch 100/100\n",
      "30/30 [==============================] - 6s 208ms/step - loss: 1.5993 - accuracy: 0.2356 - val_loss: 1.6150 - val_accuracy: 0.2200\n"
     ]
    }
   ],
   "source": [
    "#batch_size = 30,\n",
    "#steps_per_epoch = 30,\n",
    "#epochs = 100,\n",
    "#validation_split = 0.3,\n",
    "#validation_steps = 10,\n",
    "#validation_batch_size = 10\n",
    "history=network.fit(\n",
    "          X_train, y_train,\n",
    "          batch_size = 30,\n",
    "          steps_per_epoch=30,\n",
    "          epochs=100,\n",
    "          validation_split=0.3,\n",
    "          validation_steps=10,\n",
    "          validation_batch_size=10)\n",
    "#history=network.fit(X_train, y_train, batch_size = batch_size, epochs = epochs, validation_steps = validation_steps, validation_batch_size = validation_batch_size)"
   ]
  },
  {
   "cell_type": "code",
   "execution_count": 50,
   "metadata": {},
   "outputs": [
    {
     "data": {
      "text/plain": [
       "['accuracy', 'loss']"
      ]
     },
     "execution_count": 50,
     "metadata": {},
     "output_type": "execute_result"
    }
   ],
   "source": [
    "history_dict = history.history\n",
    "history_dict.keys()\n",
    "[u'accuracy', u'loss']"
   ]
  },
  {
   "cell_type": "code",
   "execution_count": 66,
   "metadata": {},
   "outputs": [
    {
     "data": {
      "image/png": "[encoded data removed]",
      "text/plain": [
       "<Figure size 432x288 with 1 Axes>"
      ]
     },
     "metadata": {
      "needs_background": "light"
     },
     "output_type": "display_data"
    }
   ],
   "source": [
    "import matplotlib.pyplot as plt\n",
    "history_dict = history.history\n",
    "loss_values = history_dict['loss']\n",
    "val_loss = history_dict['val_loss']\n",
    "epochs = range(1, len(history_dict['loss']) + 1)\n",
    "plt.plot(epochs, loss_values, 'g', label='loss')\n",
    "plt.plot(epochs, val_loss, 'b', label='val_loss')\n",
    "plt.title('loss and val_loss')\n",
    "plt.xlabel('Epochs')\n",
    "plt.ylabel('Loss')\n",
    "plt.legend()\n",
    "plt.grid()\n",
    "plt.show()"
   ]
  },
  {
   "cell_type": "code",
   "execution_count": 67,
   "metadata": {},
   "outputs": [
    {
     "data": {
      "image/png": "[encoded data removed]",
      "text/plain": [
       "<Figure size 432x288 with 1 Axes>"
      ]
     },
     "metadata": {
      "needs_background": "light"
     },
     "output_type": "display_data"
    }
   ],
   "source": [
    "import matplotlib.pyplot as plt\n",
    "history_dict = history.history\n",
    "accuracy_values = history_dict['accuracy']\n",
    "val_accuracy = history_dict['val_accuracy']\n",
    "epochs = range(1, len(history_dict['accuracy']) + 1)\n",
    "plt.plot(epochs, accuracy_values, 'g', label='accuracy')\n",
    "plt.plot(epochs, val_accuracy, 'b', label='val_accuracy')\n",
    "plt.title('Accuracy and val_accuracy')\n",
    "plt.xlabel('Epochs')\n",
    "plt.ylabel('Accuracy')\n",
    "plt.legend()\n",
    "plt.grid()\n",
    "plt.show()"
   ]
  },
  {
   "cell_type": "code",
   "execution_count": 61,
   "metadata": {},
   "outputs": [
    {
     "name": "stdout",
     "output_type": "stream",
     "text": [
      "55/55 [==============================] - 2s 41ms/step - loss: 1.5974 - accuracy: 0.2497\n"
     ]
    },
    {
     "data": {
      "text/plain": [
       "[1.5973591804504395, 0.24971097707748413]"
      ]
     },
     "execution_count": 61,
     "metadata": {},
     "output_type": "execute_result"
    }
   ],
   "source": [
    "network.evaluate(X_test,y_test)"
   ]
  },
  {
   "cell_type": "code",
   "execution_count": 62,
   "metadata": {},
   "outputs": [
    {
     "name": "stdout",
     "output_type": "stream",
     "text": [
      "1 ==> [0. 0. 0. 1. 0.]\n",
      "1 ==> [0. 0. 0. 0. 1.]\n",
      "1 ==> [0. 0. 1. 0. 0.]\n",
      "1 ==> [0. 0. 0. 0. 1.]\n",
      "1 ==> [0. 0. 1. 0. 0.]\n",
      "1 ==> [0. 0. 1. 0. 0.]\n",
      "1 ==> [0. 0. 1. 0. 0.]\n",
      "1 ==> [0. 0. 0. 1. 0.]\n",
      "1 ==> [0. 0. 0. 0. 1.]\n",
      "1 ==> [0. 0. 0. 0. 1.]\n"
     ]
    },
    {
     "name": "stderr",
     "output_type": "stream",
     "text": [
      "/home/namrah/anaconda3/lib/python3.7/site-packages/tensorflow/python/keras/engine/sequential.py:450: UserWarning: `model.predict_classes()` is deprecated and will be removed after 2021-01-01. Please use instead:* `np.argmax(model.predict(x), axis=-1)`,   if your model does multi-class classification   (e.g. if it uses a `softmax` last-layer activation).* `(model.predict(x) > 0.5).astype(\"int32\")`,   if your model does binary classification   (e.g. if it uses a `sigmoid` last-layer activation).\n",
      "  warnings.warn('`model.predict_classes()` is deprecated and '\n"
     ]
    }
   ],
   "source": [
    "\n",
    "pred = network.predict_classes(X_test[:10])\n",
    "for i in range(len(pred)):\n",
    "    print(pred[i],'==>',y_test[i])"
   ]
  },
  {
   "cell_type": "code",
   "execution_count": 63,
   "metadata": {},
   "outputs": [
    {
     "data": {
      "image/png": "[encoded data removed]",
      "text/plain": [
       "<Figure size 1440x360 with 2 Axes>"
      ]
     },
     "metadata": {
      "needs_background": "light"
     },
     "output_type": "display_data"
    }
   ],
   "source": [
    "plt.figure(figsize=(20,5))\n",
    "plt.subplot(1, 2, 1 )\n",
    "plt.hist(y_test[:10])\n",
    "plt.xlabel('original target value')\n",
    "plt.ylabel('count')\n",
    "plt.subplot(1, 2, 2)\n",
    "plt.hist(pred)\n",
    "plt.xlabel('aggregated target value')\n",
    "plt.ylabel('count')\n",
    "plt.show()"
   ]
  }
 ],
 "metadata": {
  "kernelspec": {
   "display_name": "Python 3",
   "language": "python",
   "name": "python3"
  },
  "language_info": {
   "codemirror_mode": {
    "name": "ipython",
    "version": 3
   },
   "file_extension": ".py",
   "mimetype": "text/x-python",
   "name": "python",
   "nbconvert_exporter": "python",
   "pygments_lexer": "ipython3",
   "version": "3.7.6"
  }
 },
 "nbformat": 4,
 "nbformat_minor": 4
}
